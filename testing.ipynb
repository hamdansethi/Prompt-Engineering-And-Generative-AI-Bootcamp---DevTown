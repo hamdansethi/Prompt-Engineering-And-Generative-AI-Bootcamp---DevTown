{
 "cells": [
  {
   "cell_type": "code",
   "execution_count": 1,
   "id": "ddad1400",
   "metadata": {},
   "outputs": [
    {
     "name": "stdout",
     "output_type": "stream",
     "text": [
      "Hello\n"
     ]
    }
   ],
   "source": [
    "print(\"Hello\")"
   ]
  },
  {
   "cell_type": "code",
   "execution_count": null,
   "id": "5053ffc9",
   "metadata": {},
   "outputs": [
    {
     "data": {
      "text/plain": [
       "True"
      ]
     },
     "execution_count": 2,
     "metadata": {},
     "output_type": "execute_result"
    }
   ],
   "source": [
    "import os\n",
    "from dotenv import load_dotenv\n",
    "load_dotenv(D) "
   ]
  },
  {
   "cell_type": "code",
   "execution_count": 7,
   "id": "216c6109",
   "metadata": {},
   "outputs": [],
   "source": [
    "os.environ[\"LANGCHAIN_API_KEY\"] = os.getenv(\"LANGCHAIN_API_KEY\")\n",
    "groq_api_key = os.getenv(\"GROQ_API_KEY\")\n",
    "os.environ[\"LANGCHAIN_PROJECT\"] = os.getenv(\"LANGCHAIN_PROJECT\")"
   ]
  },
  {
   "cell_type": "code",
   "execution_count": 10,
   "id": "c7ce000d",
   "metadata": {},
   "outputs": [],
   "source": [
    "from langchain_groq import ChatGroq\n",
    "\n",
    "model = ChatGroq(model = \"Gemma2-9b-It\", groq_api_key=groq_api_key)"
   ]
  },
  {
   "cell_type": "code",
   "execution_count": 12,
   "id": "bd8f9a25",
   "metadata": {},
   "outputs": [
    {
     "data": {
      "text/plain": [
       "AIMessage(content='Hello! 👋 \\n\\nHow can I help you today? 😊\\n', additional_kwargs={}, response_metadata={'token_usage': {'completion_tokens': 16, 'prompt_tokens': 11, 'total_tokens': 27, 'completion_time': 0.029090909, 'prompt_time': 0.002820584, 'queue_time': 0.019359854, 'total_time': 0.031911493}, 'model_name': 'Gemma2-9b-It', 'system_fingerprint': 'fp_10c08bf97d', 'finish_reason': 'stop', 'logprobs': None}, id='run--e1cbd9de-85c0-46b3-92b9-b5844d499de1-0', usage_metadata={'input_tokens': 11, 'output_tokens': 16, 'total_tokens': 27})"
      ]
     },
     "execution_count": 12,
     "metadata": {},
     "output_type": "execute_result"
    }
   ],
   "source": [
    "model.invoke(\"Hello model\")"
   ]
  },
  {
   "cell_type": "code",
   "execution_count": 19,
   "id": "5e9443a3",
   "metadata": {},
   "outputs": [],
   "source": [
    "from langchain_core.prompts import ChatPromptTemplate\n",
    "\n",
    "prompt = ChatPromptTemplate(\n",
    "    [\n",
    "        (\"system\", \"You are a Standup Comedian, just give me a joke on the given topic.\"),\n",
    "        (\"user\", \"topic: {topic}\")\n",
    "    ]\n",
    ")"
   ]
  },
  {
   "cell_type": "code",
   "execution_count": 14,
   "id": "37aecdbe",
   "metadata": {},
   "outputs": [
    {
     "data": {
      "text/plain": [
       "ChatPromptValue(messages=[SystemMessage(content='You are a Standup Comedian, Generate a joke on the given topic.', additional_kwargs={}, response_metadata={}), HumanMessage(content='topic: content=\\'\"Cycle\" is a very broad term! To give you a helpful response, I need more context. \\\\n\\\\nCould you tell me what kind of cycle you\\\\\\'re interested in? For example, are you asking about:\\\\n\\\\n* **A bicycle?** \\\\n* **A repeating process or pattern?**  (like the menstrual cycle, the water cycle, or the business cycle)\\\\n* **Something else entirely?**\\\\n\\\\n\\\\nLet me know, and I\\\\\\'ll do my best to provide you with relevant information! 🚲🌊📈📚\\\\n\\' additional_kwargs={} response_metadata={\\'token_usage\\': {\\'completion_tokens\\': 114, \\'prompt_tokens\\': 11, \\'total_tokens\\': 125, \\'completion_time\\': 0.207272727, \\'prompt_time\\': 0.001915807, \\'queue_time\\': 0.018129191000000003, \\'total_time\\': 0.209188534}, \\'model_name\\': \\'Gemma2-9b-It\\', \\'system_fingerprint\\': \\'fp_10c08bf97d\\', \\'finish_reason\\': \\'stop\\', \\'logprobs\\': None} id=\\'run--eb00fd76-b8e5-45d6-9259-411bdb8ff426-0\\' usage_metadata={\\'input_tokens\\': 11, \\'output_tokens\\': 114, \\'total_tokens\\': 125}', additional_kwargs={}, response_metadata={})])"
      ]
     },
     "execution_count": 14,
     "metadata": {},
     "output_type": "execute_result"
    }
   ],
   "source": [
    "prompt.invoke(model.invoke(\"cycle\"))"
   ]
  },
  {
   "cell_type": "code",
   "execution_count": 15,
   "id": "1ccd96ea",
   "metadata": {},
   "outputs": [],
   "source": [
    "from langchain_core.output_parsers import StrOutputParser\n",
    "\n",
    "output_parser = StrOutputParser()"
   ]
  },
  {
   "cell_type": "code",
   "execution_count": 20,
   "id": "199521f1",
   "metadata": {},
   "outputs": [],
   "source": [
    "chain = prompt|model|output_parser"
   ]
  },
  {
   "cell_type": "code",
   "execution_count": 21,
   "id": "f99a1111",
   "metadata": {},
   "outputs": [
    {
     "data": {
      "text/plain": [
       "'I tried teaching my AI to tell jokes, but it just kept giving me the same one over and over again. Apparently, it got stuck in a loop!  \\n\\nI guess you could say it was suffering from \"reinforcement learning fatigue.\"  😂  \\n\\n'"
      ]
     },
     "execution_count": 21,
     "metadata": {},
     "output_type": "execute_result"
    }
   ],
   "source": [
    "chain.invoke(\"Machine Learning\")"
   ]
  },
  {
   "cell_type": "code",
   "execution_count": 27,
   "id": "76e95725",
   "metadata": {},
   "outputs": [
    {
     "data": {
      "text/plain": [
       "\"Why did the computer get glasses? \\n\\nBecause it couldn't C# ! 💻🤓  \\n\""
      ]
     },
     "execution_count": 27,
     "metadata": {},
     "output_type": "execute_result"
    }
   ],
   "source": [
    "topic = input(\"Here:\")\n",
    "chain.invoke({\"topic\":topic})"
   ]
  },
  {
   "cell_type": "code",
   "execution_count": null,
   "id": "fce88004",
   "metadata": {},
   "outputs": [],
   "source": []
  }
 ],
 "metadata": {
  "kernelspec": {
   "display_name": ".venv",
   "language": "python",
   "name": "python3"
  },
  "language_info": {
   "codemirror_mode": {
    "name": "ipython",
    "version": 3
   },
   "file_extension": ".py",
   "mimetype": "text/x-python",
   "name": "python",
   "nbconvert_exporter": "python",
   "pygments_lexer": "ipython3",
   "version": "3.12.3"
  }
 },
 "nbformat": 4,
 "nbformat_minor": 5
}
